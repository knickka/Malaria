{
  "nbformat": 4,
  "nbformat_minor": 0,
  "metadata": {
    "colab": {
      "provenance": [],
      "gpuType": "T4",
      "mount_file_id": "1rSfMiNBm12QZT9J4KLn-nOpwW4z4Ag1j",
      "authorship_tag": "ABX9TyOLm2sY+gYHTox94pF5yD76",
      "include_colab_link": true
    },
    "kernelspec": {
      "name": "python3",
      "display_name": "Python 3"
    },
    "language_info": {
      "name": "python"
    },
    "accelerator": "GPU",
    "widgets": {
      "application/vnd.jupyter.widget-state+json": {
        "0c4c278ebab4461290832fccd844cc7c": {
          "model_module": "@jupyter-widgets/controls",
          "model_name": "HBoxModel",
          "model_module_version": "1.5.0",
          "state": {
            "_dom_classes": [],
            "_model_module": "@jupyter-widgets/controls",
            "_model_module_version": "1.5.0",
            "_model_name": "HBoxModel",
            "_view_count": null,
            "_view_module": "@jupyter-widgets/controls",
            "_view_module_version": "1.5.0",
            "_view_name": "HBoxView",
            "box_style": "",
            "children": [
              "IPY_MODEL_f47cbccd03fe4ec394c8e5470146e136",
              "IPY_MODEL_748164bc4584482c934bd7e2a01755ba",
              "IPY_MODEL_480ff464ed4f4418af062dc44ec49556"
            ],
            "layout": "IPY_MODEL_ac4da0e6f2bb49128aed3a8658487b46"
          }
        },
        "f47cbccd03fe4ec394c8e5470146e136": {
          "model_module": "@jupyter-widgets/controls",
          "model_name": "HTMLModel",
          "model_module_version": "1.5.0",
          "state": {
            "_dom_classes": [],
            "_model_module": "@jupyter-widgets/controls",
            "_model_module_version": "1.5.0",
            "_model_name": "HTMLModel",
            "_view_count": null,
            "_view_module": "@jupyter-widgets/controls",
            "_view_module_version": "1.5.0",
            "_view_name": "HTMLView",
            "description": "",
            "description_tooltip": null,
            "layout": "IPY_MODEL_211dcc53b55b428194d572d636bc53b1",
            "placeholder": "​",
            "style": "IPY_MODEL_ebe7e487f85245eb9e4fb2b1d04513fb",
            "value": "Dl Completed...: 100%"
          }
        },
        "748164bc4584482c934bd7e2a01755ba": {
          "model_module": "@jupyter-widgets/controls",
          "model_name": "FloatProgressModel",
          "model_module_version": "1.5.0",
          "state": {
            "_dom_classes": [],
            "_model_module": "@jupyter-widgets/controls",
            "_model_module_version": "1.5.0",
            "_model_name": "FloatProgressModel",
            "_view_count": null,
            "_view_module": "@jupyter-widgets/controls",
            "_view_module_version": "1.5.0",
            "_view_name": "ProgressView",
            "bar_style": "info",
            "description": "",
            "description_tooltip": null,
            "layout": "IPY_MODEL_6d32e0f6b9aa4630babe7c6003977c92",
            "max": 1,
            "min": 0,
            "orientation": "horizontal",
            "style": "IPY_MODEL_c86ddfcff4ce480186d90f5f262f0860",
            "value": 1
          }
        },
        "480ff464ed4f4418af062dc44ec49556": {
          "model_module": "@jupyter-widgets/controls",
          "model_name": "HTMLModel",
          "model_module_version": "1.5.0",
          "state": {
            "_dom_classes": [],
            "_model_module": "@jupyter-widgets/controls",
            "_model_module_version": "1.5.0",
            "_model_name": "HTMLModel",
            "_view_count": null,
            "_view_module": "@jupyter-widgets/controls",
            "_view_module_version": "1.5.0",
            "_view_name": "HTMLView",
            "description": "",
            "description_tooltip": null,
            "layout": "IPY_MODEL_351e1280a47143de9521655f2e5967c6",
            "placeholder": "​",
            "style": "IPY_MODEL_832d762edd5143cfa5309b40629d91c1",
            "value": " 1/1 [01:17&lt;00:00,  6.67s/ url]"
          }
        },
        "ac4da0e6f2bb49128aed3a8658487b46": {
          "model_module": "@jupyter-widgets/base",
          "model_name": "LayoutModel",
          "model_module_version": "1.2.0",
          "state": {
            "_model_module": "@jupyter-widgets/base",
            "_model_module_version": "1.2.0",
            "_model_name": "LayoutModel",
            "_view_count": null,
            "_view_module": "@jupyter-widgets/base",
            "_view_module_version": "1.2.0",
            "_view_name": "LayoutView",
            "align_content": null,
            "align_items": null,
            "align_self": null,
            "border": null,
            "bottom": null,
            "display": null,
            "flex": null,
            "flex_flow": null,
            "grid_area": null,
            "grid_auto_columns": null,
            "grid_auto_flow": null,
            "grid_auto_rows": null,
            "grid_column": null,
            "grid_gap": null,
            "grid_row": null,
            "grid_template_areas": null,
            "grid_template_columns": null,
            "grid_template_rows": null,
            "height": null,
            "justify_content": null,
            "justify_items": null,
            "left": null,
            "margin": null,
            "max_height": null,
            "max_width": null,
            "min_height": null,
            "min_width": null,
            "object_fit": null,
            "object_position": null,
            "order": null,
            "overflow": null,
            "overflow_x": null,
            "overflow_y": null,
            "padding": null,
            "right": null,
            "top": null,
            "visibility": null,
            "width": null
          }
        },
        "211dcc53b55b428194d572d636bc53b1": {
          "model_module": "@jupyter-widgets/base",
          "model_name": "LayoutModel",
          "model_module_version": "1.2.0",
          "state": {
            "_model_module": "@jupyter-widgets/base",
            "_model_module_version": "1.2.0",
            "_model_name": "LayoutModel",
            "_view_count": null,
            "_view_module": "@jupyter-widgets/base",
            "_view_module_version": "1.2.0",
            "_view_name": "LayoutView",
            "align_content": null,
            "align_items": null,
            "align_self": null,
            "border": null,
            "bottom": null,
            "display": null,
            "flex": null,
            "flex_flow": null,
            "grid_area": null,
            "grid_auto_columns": null,
            "grid_auto_flow": null,
            "grid_auto_rows": null,
            "grid_column": null,
            "grid_gap": null,
            "grid_row": null,
            "grid_template_areas": null,
            "grid_template_columns": null,
            "grid_template_rows": null,
            "height": null,
            "justify_content": null,
            "justify_items": null,
            "left": null,
            "margin": null,
            "max_height": null,
            "max_width": null,
            "min_height": null,
            "min_width": null,
            "object_fit": null,
            "object_position": null,
            "order": null,
            "overflow": null,
            "overflow_x": null,
            "overflow_y": null,
            "padding": null,
            "right": null,
            "top": null,
            "visibility": null,
            "width": null
          }
        },
        "ebe7e487f85245eb9e4fb2b1d04513fb": {
          "model_module": "@jupyter-widgets/controls",
          "model_name": "DescriptionStyleModel",
          "model_module_version": "1.5.0",
          "state": {
            "_model_module": "@jupyter-widgets/controls",
            "_model_module_version": "1.5.0",
            "_model_name": "DescriptionStyleModel",
            "_view_count": null,
            "_view_module": "@jupyter-widgets/base",
            "_view_module_version": "1.2.0",
            "_view_name": "StyleView",
            "description_width": ""
          }
        },
        "6d32e0f6b9aa4630babe7c6003977c92": {
          "model_module": "@jupyter-widgets/base",
          "model_name": "LayoutModel",
          "model_module_version": "1.2.0",
          "state": {
            "_model_module": "@jupyter-widgets/base",
            "_model_module_version": "1.2.0",
            "_model_name": "LayoutModel",
            "_view_count": null,
            "_view_module": "@jupyter-widgets/base",
            "_view_module_version": "1.2.0",
            "_view_name": "LayoutView",
            "align_content": null,
            "align_items": null,
            "align_self": null,
            "border": null,
            "bottom": null,
            "display": null,
            "flex": null,
            "flex_flow": null,
            "grid_area": null,
            "grid_auto_columns": null,
            "grid_auto_flow": null,
            "grid_auto_rows": null,
            "grid_column": null,
            "grid_gap": null,
            "grid_row": null,
            "grid_template_areas": null,
            "grid_template_columns": null,
            "grid_template_rows": null,
            "height": null,
            "justify_content": null,
            "justify_items": null,
            "left": null,
            "margin": null,
            "max_height": null,
            "max_width": null,
            "min_height": null,
            "min_width": null,
            "object_fit": null,
            "object_position": null,
            "order": null,
            "overflow": null,
            "overflow_x": null,
            "overflow_y": null,
            "padding": null,
            "right": null,
            "top": null,
            "visibility": null,
            "width": "20px"
          }
        },
        "c86ddfcff4ce480186d90f5f262f0860": {
          "model_module": "@jupyter-widgets/controls",
          "model_name": "ProgressStyleModel",
          "model_module_version": "1.5.0",
          "state": {
            "_model_module": "@jupyter-widgets/controls",
            "_model_module_version": "1.5.0",
            "_model_name": "ProgressStyleModel",
            "_view_count": null,
            "_view_module": "@jupyter-widgets/base",
            "_view_module_version": "1.2.0",
            "_view_name": "StyleView",
            "bar_color": null,
            "description_width": ""
          }
        },
        "351e1280a47143de9521655f2e5967c6": {
          "model_module": "@jupyter-widgets/base",
          "model_name": "LayoutModel",
          "model_module_version": "1.2.0",
          "state": {
            "_model_module": "@jupyter-widgets/base",
            "_model_module_version": "1.2.0",
            "_model_name": "LayoutModel",
            "_view_count": null,
            "_view_module": "@jupyter-widgets/base",
            "_view_module_version": "1.2.0",
            "_view_name": "LayoutView",
            "align_content": null,
            "align_items": null,
            "align_self": null,
            "border": null,
            "bottom": null,
            "display": null,
            "flex": null,
            "flex_flow": null,
            "grid_area": null,
            "grid_auto_columns": null,
            "grid_auto_flow": null,
            "grid_auto_rows": null,
            "grid_column": null,
            "grid_gap": null,
            "grid_row": null,
            "grid_template_areas": null,
            "grid_template_columns": null,
            "grid_template_rows": null,
            "height": null,
            "justify_content": null,
            "justify_items": null,
            "left": null,
            "margin": null,
            "max_height": null,
            "max_width": null,
            "min_height": null,
            "min_width": null,
            "object_fit": null,
            "object_position": null,
            "order": null,
            "overflow": null,
            "overflow_x": null,
            "overflow_y": null,
            "padding": null,
            "right": null,
            "top": null,
            "visibility": null,
            "width": null
          }
        },
        "832d762edd5143cfa5309b40629d91c1": {
          "model_module": "@jupyter-widgets/controls",
          "model_name": "DescriptionStyleModel",
          "model_module_version": "1.5.0",
          "state": {
            "_model_module": "@jupyter-widgets/controls",
            "_model_module_version": "1.5.0",
            "_model_name": "DescriptionStyleModel",
            "_view_count": null,
            "_view_module": "@jupyter-widgets/base",
            "_view_module_version": "1.2.0",
            "_view_name": "StyleView",
            "description_width": ""
          }
        },
        "6a1d07a5a12d43e5b34f2a1475b63bd3": {
          "model_module": "@jupyter-widgets/controls",
          "model_name": "HBoxModel",
          "model_module_version": "1.5.0",
          "state": {
            "_dom_classes": [],
            "_model_module": "@jupyter-widgets/controls",
            "_model_module_version": "1.5.0",
            "_model_name": "HBoxModel",
            "_view_count": null,
            "_view_module": "@jupyter-widgets/controls",
            "_view_module_version": "1.5.0",
            "_view_name": "HBoxView",
            "box_style": "",
            "children": [
              "IPY_MODEL_b0a3f76268994143a2735f2b4c0d4462",
              "IPY_MODEL_6fc5c00f5b1a47769536e1ca57479b94",
              "IPY_MODEL_bef5701db0b345c381b19744a1dbd966"
            ],
            "layout": "IPY_MODEL_9fb5ea521a8840a9b8a34c4f4dba283a"
          }
        },
        "b0a3f76268994143a2735f2b4c0d4462": {
          "model_module": "@jupyter-widgets/controls",
          "model_name": "HTMLModel",
          "model_module_version": "1.5.0",
          "state": {
            "_dom_classes": [],
            "_model_module": "@jupyter-widgets/controls",
            "_model_module_version": "1.5.0",
            "_model_name": "HTMLModel",
            "_view_count": null,
            "_view_module": "@jupyter-widgets/controls",
            "_view_module_version": "1.5.0",
            "_view_name": "HTMLView",
            "description": "",
            "description_tooltip": null,
            "layout": "IPY_MODEL_b9521d8367ce4c64bd6ac5a8667cb2a2",
            "placeholder": "​",
            "style": "IPY_MODEL_845e972f201b494fa77d5878c8187ba6",
            "value": "Dl Size...: 100%"
          }
        },
        "6fc5c00f5b1a47769536e1ca57479b94": {
          "model_module": "@jupyter-widgets/controls",
          "model_name": "FloatProgressModel",
          "model_module_version": "1.5.0",
          "state": {
            "_dom_classes": [],
            "_model_module": "@jupyter-widgets/controls",
            "_model_module_version": "1.5.0",
            "_model_name": "FloatProgressModel",
            "_view_count": null,
            "_view_module": "@jupyter-widgets/controls",
            "_view_module_version": "1.5.0",
            "_view_name": "ProgressView",
            "bar_style": "info",
            "description": "",
            "description_tooltip": null,
            "layout": "IPY_MODEL_8eb6a08301164be588a2a789311b3e6a",
            "max": 1,
            "min": 0,
            "orientation": "horizontal",
            "style": "IPY_MODEL_244529d257e04aaa8855f582f0d85569",
            "value": 1
          }
        },
        "bef5701db0b345c381b19744a1dbd966": {
          "model_module": "@jupyter-widgets/controls",
          "model_name": "HTMLModel",
          "model_module_version": "1.5.0",
          "state": {
            "_dom_classes": [],
            "_model_module": "@jupyter-widgets/controls",
            "_model_module_version": "1.5.0",
            "_model_name": "HTMLModel",
            "_view_count": null,
            "_view_module": "@jupyter-widgets/controls",
            "_view_module_version": "1.5.0",
            "_view_name": "HTMLView",
            "description": "",
            "description_tooltip": null,
            "layout": "IPY_MODEL_f9b51037556242d4ba06e2b399a1d804",
            "placeholder": "​",
            "style": "IPY_MODEL_8ea7c15f6ea2410088c6b2d8bc84c5b8",
            "value": " 337/337 [01:17&lt;00:00, 62.81 MiB/s]"
          }
        },
        "9fb5ea521a8840a9b8a34c4f4dba283a": {
          "model_module": "@jupyter-widgets/base",
          "model_name": "LayoutModel",
          "model_module_version": "1.2.0",
          "state": {
            "_model_module": "@jupyter-widgets/base",
            "_model_module_version": "1.2.0",
            "_model_name": "LayoutModel",
            "_view_count": null,
            "_view_module": "@jupyter-widgets/base",
            "_view_module_version": "1.2.0",
            "_view_name": "LayoutView",
            "align_content": null,
            "align_items": null,
            "align_self": null,
            "border": null,
            "bottom": null,
            "display": null,
            "flex": null,
            "flex_flow": null,
            "grid_area": null,
            "grid_auto_columns": null,
            "grid_auto_flow": null,
            "grid_auto_rows": null,
            "grid_column": null,
            "grid_gap": null,
            "grid_row": null,
            "grid_template_areas": null,
            "grid_template_columns": null,
            "grid_template_rows": null,
            "height": null,
            "justify_content": null,
            "justify_items": null,
            "left": null,
            "margin": null,
            "max_height": null,
            "max_width": null,
            "min_height": null,
            "min_width": null,
            "object_fit": null,
            "object_position": null,
            "order": null,
            "overflow": null,
            "overflow_x": null,
            "overflow_y": null,
            "padding": null,
            "right": null,
            "top": null,
            "visibility": null,
            "width": null
          }
        },
        "b9521d8367ce4c64bd6ac5a8667cb2a2": {
          "model_module": "@jupyter-widgets/base",
          "model_name": "LayoutModel",
          "model_module_version": "1.2.0",
          "state": {
            "_model_module": "@jupyter-widgets/base",
            "_model_module_version": "1.2.0",
            "_model_name": "LayoutModel",
            "_view_count": null,
            "_view_module": "@jupyter-widgets/base",
            "_view_module_version": "1.2.0",
            "_view_name": "LayoutView",
            "align_content": null,
            "align_items": null,
            "align_self": null,
            "border": null,
            "bottom": null,
            "display": null,
            "flex": null,
            "flex_flow": null,
            "grid_area": null,
            "grid_auto_columns": null,
            "grid_auto_flow": null,
            "grid_auto_rows": null,
            "grid_column": null,
            "grid_gap": null,
            "grid_row": null,
            "grid_template_areas": null,
            "grid_template_columns": null,
            "grid_template_rows": null,
            "height": null,
            "justify_content": null,
            "justify_items": null,
            "left": null,
            "margin": null,
            "max_height": null,
            "max_width": null,
            "min_height": null,
            "min_width": null,
            "object_fit": null,
            "object_position": null,
            "order": null,
            "overflow": null,
            "overflow_x": null,
            "overflow_y": null,
            "padding": null,
            "right": null,
            "top": null,
            "visibility": null,
            "width": null
          }
        },
        "845e972f201b494fa77d5878c8187ba6": {
          "model_module": "@jupyter-widgets/controls",
          "model_name": "DescriptionStyleModel",
          "model_module_version": "1.5.0",
          "state": {
            "_model_module": "@jupyter-widgets/controls",
            "_model_module_version": "1.5.0",
            "_model_name": "DescriptionStyleModel",
            "_view_count": null,
            "_view_module": "@jupyter-widgets/base",
            "_view_module_version": "1.2.0",
            "_view_name": "StyleView",
            "description_width": ""
          }
        },
        "8eb6a08301164be588a2a789311b3e6a": {
          "model_module": "@jupyter-widgets/base",
          "model_name": "LayoutModel",
          "model_module_version": "1.2.0",
          "state": {
            "_model_module": "@jupyter-widgets/base",
            "_model_module_version": "1.2.0",
            "_model_name": "LayoutModel",
            "_view_count": null,
            "_view_module": "@jupyter-widgets/base",
            "_view_module_version": "1.2.0",
            "_view_name": "LayoutView",
            "align_content": null,
            "align_items": null,
            "align_self": null,
            "border": null,
            "bottom": null,
            "display": null,
            "flex": null,
            "flex_flow": null,
            "grid_area": null,
            "grid_auto_columns": null,
            "grid_auto_flow": null,
            "grid_auto_rows": null,
            "grid_column": null,
            "grid_gap": null,
            "grid_row": null,
            "grid_template_areas": null,
            "grid_template_columns": null,
            "grid_template_rows": null,
            "height": null,
            "justify_content": null,
            "justify_items": null,
            "left": null,
            "margin": null,
            "max_height": null,
            "max_width": null,
            "min_height": null,
            "min_width": null,
            "object_fit": null,
            "object_position": null,
            "order": null,
            "overflow": null,
            "overflow_x": null,
            "overflow_y": null,
            "padding": null,
            "right": null,
            "top": null,
            "visibility": null,
            "width": "20px"
          }
        },
        "244529d257e04aaa8855f582f0d85569": {
          "model_module": "@jupyter-widgets/controls",
          "model_name": "ProgressStyleModel",
          "model_module_version": "1.5.0",
          "state": {
            "_model_module": "@jupyter-widgets/controls",
            "_model_module_version": "1.5.0",
            "_model_name": "ProgressStyleModel",
            "_view_count": null,
            "_view_module": "@jupyter-widgets/base",
            "_view_module_version": "1.2.0",
            "_view_name": "StyleView",
            "bar_color": null,
            "description_width": ""
          }
        },
        "f9b51037556242d4ba06e2b399a1d804": {
          "model_module": "@jupyter-widgets/base",
          "model_name": "LayoutModel",
          "model_module_version": "1.2.0",
          "state": {
            "_model_module": "@jupyter-widgets/base",
            "_model_module_version": "1.2.0",
            "_model_name": "LayoutModel",
            "_view_count": null,
            "_view_module": "@jupyter-widgets/base",
            "_view_module_version": "1.2.0",
            "_view_name": "LayoutView",
            "align_content": null,
            "align_items": null,
            "align_self": null,
            "border": null,
            "bottom": null,
            "display": null,
            "flex": null,
            "flex_flow": null,
            "grid_area": null,
            "grid_auto_columns": null,
            "grid_auto_flow": null,
            "grid_auto_rows": null,
            "grid_column": null,
            "grid_gap": null,
            "grid_row": null,
            "grid_template_areas": null,
            "grid_template_columns": null,
            "grid_template_rows": null,
            "height": null,
            "justify_content": null,
            "justify_items": null,
            "left": null,
            "margin": null,
            "max_height": null,
            "max_width": null,
            "min_height": null,
            "min_width": null,
            "object_fit": null,
            "object_position": null,
            "order": null,
            "overflow": null,
            "overflow_x": null,
            "overflow_y": null,
            "padding": null,
            "right": null,
            "top": null,
            "visibility": null,
            "width": null
          }
        },
        "8ea7c15f6ea2410088c6b2d8bc84c5b8": {
          "model_module": "@jupyter-widgets/controls",
          "model_name": "DescriptionStyleModel",
          "model_module_version": "1.5.0",
          "state": {
            "_model_module": "@jupyter-widgets/controls",
            "_model_module_version": "1.5.0",
            "_model_name": "DescriptionStyleModel",
            "_view_count": null,
            "_view_module": "@jupyter-widgets/base",
            "_view_module_version": "1.2.0",
            "_view_name": "StyleView",
            "description_width": ""
          }
        },
        "dfea65b7b1d84f5aab2d1f1485ed3f8e": {
          "model_module": "@jupyter-widgets/controls",
          "model_name": "HBoxModel",
          "model_module_version": "1.5.0",
          "state": {
            "_dom_classes": [],
            "_model_module": "@jupyter-widgets/controls",
            "_model_module_version": "1.5.0",
            "_model_name": "HBoxModel",
            "_view_count": null,
            "_view_module": "@jupyter-widgets/controls",
            "_view_module_version": "1.5.0",
            "_view_name": "HBoxView",
            "box_style": "",
            "children": [
              "IPY_MODEL_724fe343040f4b99b21c87b5d2a73dc0",
              "IPY_MODEL_6ff7d66e40d34ce890eeefcda49f02b0",
              "IPY_MODEL_a576f404798b4cefa57710c85724e0d3"
            ],
            "layout": "IPY_MODEL_d494c711339f457d8c498cc4eae29681"
          }
        },
        "724fe343040f4b99b21c87b5d2a73dc0": {
          "model_module": "@jupyter-widgets/controls",
          "model_name": "HTMLModel",
          "model_module_version": "1.5.0",
          "state": {
            "_dom_classes": [],
            "_model_module": "@jupyter-widgets/controls",
            "_model_module_version": "1.5.0",
            "_model_name": "HTMLModel",
            "_view_count": null,
            "_view_module": "@jupyter-widgets/controls",
            "_view_module_version": "1.5.0",
            "_view_name": "HTMLView",
            "description": "",
            "description_tooltip": null,
            "layout": "IPY_MODEL_499eacdeebcb403480858ac14ea76382",
            "placeholder": "​",
            "style": "IPY_MODEL_cd02a53274384f228471023df844f821",
            "value": "Extraction completed...:  99%"
          }
        },
        "6ff7d66e40d34ce890eeefcda49f02b0": {
          "model_module": "@jupyter-widgets/controls",
          "model_name": "FloatProgressModel",
          "model_module_version": "1.5.0",
          "state": {
            "_dom_classes": [],
            "_model_module": "@jupyter-widgets/controls",
            "_model_module_version": "1.5.0",
            "_model_name": "FloatProgressModel",
            "_view_count": null,
            "_view_module": "@jupyter-widgets/controls",
            "_view_module_version": "1.5.0",
            "_view_name": "ProgressView",
            "bar_style": "info",
            "description": "",
            "description_tooltip": null,
            "layout": "IPY_MODEL_e99de73f972c41f2a2a0cb2bfbd5549f",
            "max": 1,
            "min": 0,
            "orientation": "horizontal",
            "style": "IPY_MODEL_76cbc762fbb147a09eb4aabe1f40d30e",
            "value": 1
          }
        },
        "a576f404798b4cefa57710c85724e0d3": {
          "model_module": "@jupyter-widgets/controls",
          "model_name": "HTMLModel",
          "model_module_version": "1.5.0",
          "state": {
            "_dom_classes": [],
            "_model_module": "@jupyter-widgets/controls",
            "_model_module_version": "1.5.0",
            "_model_name": "HTMLModel",
            "_view_count": null,
            "_view_module": "@jupyter-widgets/controls",
            "_view_module_version": "1.5.0",
            "_view_name": "HTMLView",
            "description": "",
            "description_tooltip": null,
            "layout": "IPY_MODEL_2d73a71d960c4584adb28004fa834e41",
            "placeholder": "​",
            "style": "IPY_MODEL_d2f251bd4a5741d4ae81561caf7fa245",
            "value": " 27198/27560 [01:17&lt;00:01, 333.59 file/s]"
          }
        },
        "d494c711339f457d8c498cc4eae29681": {
          "model_module": "@jupyter-widgets/base",
          "model_name": "LayoutModel",
          "model_module_version": "1.2.0",
          "state": {
            "_model_module": "@jupyter-widgets/base",
            "_model_module_version": "1.2.0",
            "_model_name": "LayoutModel",
            "_view_count": null,
            "_view_module": "@jupyter-widgets/base",
            "_view_module_version": "1.2.0",
            "_view_name": "LayoutView",
            "align_content": null,
            "align_items": null,
            "align_self": null,
            "border": null,
            "bottom": null,
            "display": null,
            "flex": null,
            "flex_flow": null,
            "grid_area": null,
            "grid_auto_columns": null,
            "grid_auto_flow": null,
            "grid_auto_rows": null,
            "grid_column": null,
            "grid_gap": null,
            "grid_row": null,
            "grid_template_areas": null,
            "grid_template_columns": null,
            "grid_template_rows": null,
            "height": null,
            "justify_content": null,
            "justify_items": null,
            "left": null,
            "margin": null,
            "max_height": null,
            "max_width": null,
            "min_height": null,
            "min_width": null,
            "object_fit": null,
            "object_position": null,
            "order": null,
            "overflow": null,
            "overflow_x": null,
            "overflow_y": null,
            "padding": null,
            "right": null,
            "top": null,
            "visibility": null,
            "width": null
          }
        },
        "499eacdeebcb403480858ac14ea76382": {
          "model_module": "@jupyter-widgets/base",
          "model_name": "LayoutModel",
          "model_module_version": "1.2.0",
          "state": {
            "_model_module": "@jupyter-widgets/base",
            "_model_module_version": "1.2.0",
            "_model_name": "LayoutModel",
            "_view_count": null,
            "_view_module": "@jupyter-widgets/base",
            "_view_module_version": "1.2.0",
            "_view_name": "LayoutView",
            "align_content": null,
            "align_items": null,
            "align_self": null,
            "border": null,
            "bottom": null,
            "display": null,
            "flex": null,
            "flex_flow": null,
            "grid_area": null,
            "grid_auto_columns": null,
            "grid_auto_flow": null,
            "grid_auto_rows": null,
            "grid_column": null,
            "grid_gap": null,
            "grid_row": null,
            "grid_template_areas": null,
            "grid_template_columns": null,
            "grid_template_rows": null,
            "height": null,
            "justify_content": null,
            "justify_items": null,
            "left": null,
            "margin": null,
            "max_height": null,
            "max_width": null,
            "min_height": null,
            "min_width": null,
            "object_fit": null,
            "object_position": null,
            "order": null,
            "overflow": null,
            "overflow_x": null,
            "overflow_y": null,
            "padding": null,
            "right": null,
            "top": null,
            "visibility": null,
            "width": null
          }
        },
        "cd02a53274384f228471023df844f821": {
          "model_module": "@jupyter-widgets/controls",
          "model_name": "DescriptionStyleModel",
          "model_module_version": "1.5.0",
          "state": {
            "_model_module": "@jupyter-widgets/controls",
            "_model_module_version": "1.5.0",
            "_model_name": "DescriptionStyleModel",
            "_view_count": null,
            "_view_module": "@jupyter-widgets/base",
            "_view_module_version": "1.2.0",
            "_view_name": "StyleView",
            "description_width": ""
          }
        },
        "e99de73f972c41f2a2a0cb2bfbd5549f": {
          "model_module": "@jupyter-widgets/base",
          "model_name": "LayoutModel",
          "model_module_version": "1.2.0",
          "state": {
            "_model_module": "@jupyter-widgets/base",
            "_model_module_version": "1.2.0",
            "_model_name": "LayoutModel",
            "_view_count": null,
            "_view_module": "@jupyter-widgets/base",
            "_view_module_version": "1.2.0",
            "_view_name": "LayoutView",
            "align_content": null,
            "align_items": null,
            "align_self": null,
            "border": null,
            "bottom": null,
            "display": null,
            "flex": null,
            "flex_flow": null,
            "grid_area": null,
            "grid_auto_columns": null,
            "grid_auto_flow": null,
            "grid_auto_rows": null,
            "grid_column": null,
            "grid_gap": null,
            "grid_row": null,
            "grid_template_areas": null,
            "grid_template_columns": null,
            "grid_template_rows": null,
            "height": null,
            "justify_content": null,
            "justify_items": null,
            "left": null,
            "margin": null,
            "max_height": null,
            "max_width": null,
            "min_height": null,
            "min_width": null,
            "object_fit": null,
            "object_position": null,
            "order": null,
            "overflow": null,
            "overflow_x": null,
            "overflow_y": null,
            "padding": null,
            "right": null,
            "top": null,
            "visibility": null,
            "width": "20px"
          }
        },
        "76cbc762fbb147a09eb4aabe1f40d30e": {
          "model_module": "@jupyter-widgets/controls",
          "model_name": "ProgressStyleModel",
          "model_module_version": "1.5.0",
          "state": {
            "_model_module": "@jupyter-widgets/controls",
            "_model_module_version": "1.5.0",
            "_model_name": "ProgressStyleModel",
            "_view_count": null,
            "_view_module": "@jupyter-widgets/base",
            "_view_module_version": "1.2.0",
            "_view_name": "StyleView",
            "bar_color": null,
            "description_width": ""
          }
        },
        "2d73a71d960c4584adb28004fa834e41": {
          "model_module": "@jupyter-widgets/base",
          "model_name": "LayoutModel",
          "model_module_version": "1.2.0",
          "state": {
            "_model_module": "@jupyter-widgets/base",
            "_model_module_version": "1.2.0",
            "_model_name": "LayoutModel",
            "_view_count": null,
            "_view_module": "@jupyter-widgets/base",
            "_view_module_version": "1.2.0",
            "_view_name": "LayoutView",
            "align_content": null,
            "align_items": null,
            "align_self": null,
            "border": null,
            "bottom": null,
            "display": null,
            "flex": null,
            "flex_flow": null,
            "grid_area": null,
            "grid_auto_columns": null,
            "grid_auto_flow": null,
            "grid_auto_rows": null,
            "grid_column": null,
            "grid_gap": null,
            "grid_row": null,
            "grid_template_areas": null,
            "grid_template_columns": null,
            "grid_template_rows": null,
            "height": null,
            "justify_content": null,
            "justify_items": null,
            "left": null,
            "margin": null,
            "max_height": null,
            "max_width": null,
            "min_height": null,
            "min_width": null,
            "object_fit": null,
            "object_position": null,
            "order": null,
            "overflow": null,
            "overflow_x": null,
            "overflow_y": null,
            "padding": null,
            "right": null,
            "top": null,
            "visibility": null,
            "width": null
          }
        },
        "d2f251bd4a5741d4ae81561caf7fa245": {
          "model_module": "@jupyter-widgets/controls",
          "model_name": "DescriptionStyleModel",
          "model_module_version": "1.5.0",
          "state": {
            "_model_module": "@jupyter-widgets/controls",
            "_model_module_version": "1.5.0",
            "_model_name": "DescriptionStyleModel",
            "_view_count": null,
            "_view_module": "@jupyter-widgets/base",
            "_view_module_version": "1.2.0",
            "_view_name": "StyleView",
            "description_width": ""
          }
        },
        "779a041512204920a01b39b1d28565a1": {
          "model_module": "@jupyter-widgets/controls",
          "model_name": "HBoxModel",
          "model_module_version": "1.5.0",
          "state": {
            "_dom_classes": [],
            "_model_module": "@jupyter-widgets/controls",
            "_model_module_version": "1.5.0",
            "_model_name": "HBoxModel",
            "_view_count": null,
            "_view_module": "@jupyter-widgets/controls",
            "_view_module_version": "1.5.0",
            "_view_name": "HBoxView",
            "box_style": "",
            "children": [
              "IPY_MODEL_86b361c0bf8343cfbd0734c2f67917c4",
              "IPY_MODEL_a2b3a17b9fd94f158c13195f0f137c57",
              "IPY_MODEL_d72e3c35285f40838d978e76f623dfb5"
            ],
            "layout": "IPY_MODEL_8a60c46cfb2e4ba6915f5cdc09c827f7"
          }
        },
        "86b361c0bf8343cfbd0734c2f67917c4": {
          "model_module": "@jupyter-widgets/controls",
          "model_name": "HTMLModel",
          "model_module_version": "1.5.0",
          "state": {
            "_dom_classes": [],
            "_model_module": "@jupyter-widgets/controls",
            "_model_module_version": "1.5.0",
            "_model_name": "HTMLModel",
            "_view_count": null,
            "_view_module": "@jupyter-widgets/controls",
            "_view_module_version": "1.5.0",
            "_view_name": "HTMLView",
            "description": "",
            "description_tooltip": null,
            "layout": "IPY_MODEL_2eb8b677e0424a86967193466f1561d6",
            "placeholder": "​",
            "style": "IPY_MODEL_5067a723e6a94b8cbfb7178d705c72b1",
            "value": "Shuffling /root/tensorflow_datasets/malaria/1.0.0.incomplete8FOZ1I/malaria-train.tfrecord*...: 100%"
          }
        },
        "a2b3a17b9fd94f158c13195f0f137c57": {
          "model_module": "@jupyter-widgets/controls",
          "model_name": "FloatProgressModel",
          "model_module_version": "1.5.0",
          "state": {
            "_dom_classes": [],
            "_model_module": "@jupyter-widgets/controls",
            "_model_module_version": "1.5.0",
            "_model_name": "FloatProgressModel",
            "_view_count": null,
            "_view_module": "@jupyter-widgets/controls",
            "_view_module_version": "1.5.0",
            "_view_name": "ProgressView",
            "bar_style": "",
            "description": "",
            "description_tooltip": null,
            "layout": "IPY_MODEL_3eb5ddb72d7042269ae598002e267d6e",
            "max": 27558,
            "min": 0,
            "orientation": "horizontal",
            "style": "IPY_MODEL_b152c1784be24e34a9680d158235d4ca",
            "value": 27558
          }
        },
        "d72e3c35285f40838d978e76f623dfb5": {
          "model_module": "@jupyter-widgets/controls",
          "model_name": "HTMLModel",
          "model_module_version": "1.5.0",
          "state": {
            "_dom_classes": [],
            "_model_module": "@jupyter-widgets/controls",
            "_model_module_version": "1.5.0",
            "_model_name": "HTMLModel",
            "_view_count": null,
            "_view_module": "@jupyter-widgets/controls",
            "_view_module_version": "1.5.0",
            "_view_name": "HTMLView",
            "description": "",
            "description_tooltip": null,
            "layout": "IPY_MODEL_59d0d8744bef47fab6707494165fa471",
            "placeholder": "​",
            "style": "IPY_MODEL_0efd4c434a904d69ae53ab6212c4ef2b",
            "value": " 27421/27558 [00:00&lt;00:00, 35558.77 examples/s]"
          }
        },
        "8a60c46cfb2e4ba6915f5cdc09c827f7": {
          "model_module": "@jupyter-widgets/base",
          "model_name": "LayoutModel",
          "model_module_version": "1.2.0",
          "state": {
            "_model_module": "@jupyter-widgets/base",
            "_model_module_version": "1.2.0",
            "_model_name": "LayoutModel",
            "_view_count": null,
            "_view_module": "@jupyter-widgets/base",
            "_view_module_version": "1.2.0",
            "_view_name": "LayoutView",
            "align_content": null,
            "align_items": null,
            "align_self": null,
            "border": null,
            "bottom": null,
            "display": null,
            "flex": null,
            "flex_flow": null,
            "grid_area": null,
            "grid_auto_columns": null,
            "grid_auto_flow": null,
            "grid_auto_rows": null,
            "grid_column": null,
            "grid_gap": null,
            "grid_row": null,
            "grid_template_areas": null,
            "grid_template_columns": null,
            "grid_template_rows": null,
            "height": null,
            "justify_content": null,
            "justify_items": null,
            "left": null,
            "margin": null,
            "max_height": null,
            "max_width": null,
            "min_height": null,
            "min_width": null,
            "object_fit": null,
            "object_position": null,
            "order": null,
            "overflow": null,
            "overflow_x": null,
            "overflow_y": null,
            "padding": null,
            "right": null,
            "top": null,
            "visibility": "hidden",
            "width": null
          }
        },
        "2eb8b677e0424a86967193466f1561d6": {
          "model_module": "@jupyter-widgets/base",
          "model_name": "LayoutModel",
          "model_module_version": "1.2.0",
          "state": {
            "_model_module": "@jupyter-widgets/base",
            "_model_module_version": "1.2.0",
            "_model_name": "LayoutModel",
            "_view_count": null,
            "_view_module": "@jupyter-widgets/base",
            "_view_module_version": "1.2.0",
            "_view_name": "LayoutView",
            "align_content": null,
            "align_items": null,
            "align_self": null,
            "border": null,
            "bottom": null,
            "display": null,
            "flex": null,
            "flex_flow": null,
            "grid_area": null,
            "grid_auto_columns": null,
            "grid_auto_flow": null,
            "grid_auto_rows": null,
            "grid_column": null,
            "grid_gap": null,
            "grid_row": null,
            "grid_template_areas": null,
            "grid_template_columns": null,
            "grid_template_rows": null,
            "height": null,
            "justify_content": null,
            "justify_items": null,
            "left": null,
            "margin": null,
            "max_height": null,
            "max_width": null,
            "min_height": null,
            "min_width": null,
            "object_fit": null,
            "object_position": null,
            "order": null,
            "overflow": null,
            "overflow_x": null,
            "overflow_y": null,
            "padding": null,
            "right": null,
            "top": null,
            "visibility": null,
            "width": null
          }
        },
        "5067a723e6a94b8cbfb7178d705c72b1": {
          "model_module": "@jupyter-widgets/controls",
          "model_name": "DescriptionStyleModel",
          "model_module_version": "1.5.0",
          "state": {
            "_model_module": "@jupyter-widgets/controls",
            "_model_module_version": "1.5.0",
            "_model_name": "DescriptionStyleModel",
            "_view_count": null,
            "_view_module": "@jupyter-widgets/base",
            "_view_module_version": "1.2.0",
            "_view_name": "StyleView",
            "description_width": ""
          }
        },
        "3eb5ddb72d7042269ae598002e267d6e": {
          "model_module": "@jupyter-widgets/base",
          "model_name": "LayoutModel",
          "model_module_version": "1.2.0",
          "state": {
            "_model_module": "@jupyter-widgets/base",
            "_model_module_version": "1.2.0",
            "_model_name": "LayoutModel",
            "_view_count": null,
            "_view_module": "@jupyter-widgets/base",
            "_view_module_version": "1.2.0",
            "_view_name": "LayoutView",
            "align_content": null,
            "align_items": null,
            "align_self": null,
            "border": null,
            "bottom": null,
            "display": null,
            "flex": null,
            "flex_flow": null,
            "grid_area": null,
            "grid_auto_columns": null,
            "grid_auto_flow": null,
            "grid_auto_rows": null,
            "grid_column": null,
            "grid_gap": null,
            "grid_row": null,
            "grid_template_areas": null,
            "grid_template_columns": null,
            "grid_template_rows": null,
            "height": null,
            "justify_content": null,
            "justify_items": null,
            "left": null,
            "margin": null,
            "max_height": null,
            "max_width": null,
            "min_height": null,
            "min_width": null,
            "object_fit": null,
            "object_position": null,
            "order": null,
            "overflow": null,
            "overflow_x": null,
            "overflow_y": null,
            "padding": null,
            "right": null,
            "top": null,
            "visibility": null,
            "width": null
          }
        },
        "b152c1784be24e34a9680d158235d4ca": {
          "model_module": "@jupyter-widgets/controls",
          "model_name": "ProgressStyleModel",
          "model_module_version": "1.5.0",
          "state": {
            "_model_module": "@jupyter-widgets/controls",
            "_model_module_version": "1.5.0",
            "_model_name": "ProgressStyleModel",
            "_view_count": null,
            "_view_module": "@jupyter-widgets/base",
            "_view_module_version": "1.2.0",
            "_view_name": "StyleView",
            "bar_color": null,
            "description_width": ""
          }
        },
        "59d0d8744bef47fab6707494165fa471": {
          "model_module": "@jupyter-widgets/base",
          "model_name": "LayoutModel",
          "model_module_version": "1.2.0",
          "state": {
            "_model_module": "@jupyter-widgets/base",
            "_model_module_version": "1.2.0",
            "_model_name": "LayoutModel",
            "_view_count": null,
            "_view_module": "@jupyter-widgets/base",
            "_view_module_version": "1.2.0",
            "_view_name": "LayoutView",
            "align_content": null,
            "align_items": null,
            "align_self": null,
            "border": null,
            "bottom": null,
            "display": null,
            "flex": null,
            "flex_flow": null,
            "grid_area": null,
            "grid_auto_columns": null,
            "grid_auto_flow": null,
            "grid_auto_rows": null,
            "grid_column": null,
            "grid_gap": null,
            "grid_row": null,
            "grid_template_areas": null,
            "grid_template_columns": null,
            "grid_template_rows": null,
            "height": null,
            "justify_content": null,
            "justify_items": null,
            "left": null,
            "margin": null,
            "max_height": null,
            "max_width": null,
            "min_height": null,
            "min_width": null,
            "object_fit": null,
            "object_position": null,
            "order": null,
            "overflow": null,
            "overflow_x": null,
            "overflow_y": null,
            "padding": null,
            "right": null,
            "top": null,
            "visibility": null,
            "width": null
          }
        },
        "0efd4c434a904d69ae53ab6212c4ef2b": {
          "model_module": "@jupyter-widgets/controls",
          "model_name": "DescriptionStyleModel",
          "model_module_version": "1.5.0",
          "state": {
            "_model_module": "@jupyter-widgets/controls",
            "_model_module_version": "1.5.0",
            "_model_name": "DescriptionStyleModel",
            "_view_count": null,
            "_view_module": "@jupyter-widgets/base",
            "_view_module_version": "1.2.0",
            "_view_name": "StyleView",
            "description_width": ""
          }
        }
      }
    }
  },
  "cells": [
    {
      "cell_type": "markdown",
      "metadata": {
        "id": "view-in-github",
        "colab_type": "text"
      },
      "source": [
        "<a href=\"https://colab.research.google.com/github/knickka/Malaria/blob/main/Malaria.ipynb\" target=\"_parent\"><img src=\"https://colab.research.google.com/assets/colab-badge.svg\" alt=\"Open In Colab\"/></a>"
      ]
    },
    {
      "cell_type": "markdown",
      "source": [
        "## Datas"
      ],
      "metadata": {
        "id": "BzuJU5tRMbUr"
      }
    },
    {
      "cell_type": "code",
      "execution_count": 1,
      "metadata": {
        "id": "DYf3CObpKhT2"
      },
      "outputs": [],
      "source": [
        "# IMPORTING DEPENDENCIES\n",
        "import tensorflow as tf\n",
        "import matplotlib.pyplot as plt\n",
        "import numpy as np\n",
        "import tensorflow_datasets as tfds\n"
      ]
    },
    {
      "cell_type": "code",
      "source": [
        "dataset, dataset_info = tfds.load(name = 'malaria', shuffle_files = True, as_supervised = True, split= 'train',with_info = True ) # downloading data"
      ],
      "metadata": {
        "id": "yaobArJMM1kT",
        "colab": {
          "base_uri": "https://localhost:8080/",
          "height": 148,
          "referenced_widgets": [
            "0c4c278ebab4461290832fccd844cc7c",
            "f47cbccd03fe4ec394c8e5470146e136",
            "748164bc4584482c934bd7e2a01755ba",
            "480ff464ed4f4418af062dc44ec49556",
            "ac4da0e6f2bb49128aed3a8658487b46",
            "211dcc53b55b428194d572d636bc53b1",
            "ebe7e487f85245eb9e4fb2b1d04513fb",
            "6d32e0f6b9aa4630babe7c6003977c92",
            "c86ddfcff4ce480186d90f5f262f0860",
            "351e1280a47143de9521655f2e5967c6",
            "832d762edd5143cfa5309b40629d91c1",
            "6a1d07a5a12d43e5b34f2a1475b63bd3",
            "b0a3f76268994143a2735f2b4c0d4462",
            "6fc5c00f5b1a47769536e1ca57479b94",
            "bef5701db0b345c381b19744a1dbd966",
            "9fb5ea521a8840a9b8a34c4f4dba283a",
            "b9521d8367ce4c64bd6ac5a8667cb2a2",
            "845e972f201b494fa77d5878c8187ba6",
            "8eb6a08301164be588a2a789311b3e6a",
            "244529d257e04aaa8855f582f0d85569",
            "f9b51037556242d4ba06e2b399a1d804",
            "8ea7c15f6ea2410088c6b2d8bc84c5b8",
            "dfea65b7b1d84f5aab2d1f1485ed3f8e",
            "724fe343040f4b99b21c87b5d2a73dc0",
            "6ff7d66e40d34ce890eeefcda49f02b0",
            "a576f404798b4cefa57710c85724e0d3",
            "d494c711339f457d8c498cc4eae29681",
            "499eacdeebcb403480858ac14ea76382",
            "cd02a53274384f228471023df844f821",
            "e99de73f972c41f2a2a0cb2bfbd5549f",
            "76cbc762fbb147a09eb4aabe1f40d30e",
            "2d73a71d960c4584adb28004fa834e41",
            "d2f251bd4a5741d4ae81561caf7fa245",
            "779a041512204920a01b39b1d28565a1",
            "86b361c0bf8343cfbd0734c2f67917c4",
            "a2b3a17b9fd94f158c13195f0f137c57",
            "d72e3c35285f40838d978e76f623dfb5",
            "8a60c46cfb2e4ba6915f5cdc09c827f7",
            "2eb8b677e0424a86967193466f1561d6",
            "5067a723e6a94b8cbfb7178d705c72b1",
            "3eb5ddb72d7042269ae598002e267d6e",
            "b152c1784be24e34a9680d158235d4ca",
            "59d0d8744bef47fab6707494165fa471",
            "0efd4c434a904d69ae53ab6212c4ef2b"
          ]
        },
        "outputId": "411fce6a-4b5d-4d6a-971d-71fa8c9cfb07"
      },
      "execution_count": 2,
      "outputs": [
        {
          "output_type": "stream",
          "name": "stdout",
          "text": [
            "Downloading and preparing dataset 337.08 MiB (download: 337.08 MiB, generated: Unknown size, total: 337.08 MiB) to /root/tensorflow_datasets/malaria/1.0.0...\n"
          ]
        },
        {
          "output_type": "display_data",
          "data": {
            "text/plain": [
              "Dl Completed...: 0 url [00:00, ? url/s]"
            ],
            "application/vnd.jupyter.widget-view+json": {
              "version_major": 2,
              "version_minor": 0,
              "model_id": "0c4c278ebab4461290832fccd844cc7c"
            }
          },
          "metadata": {}
        },
        {
          "output_type": "display_data",
          "data": {
            "text/plain": [
              "Dl Size...: 0 MiB [00:00, ? MiB/s]"
            ],
            "application/vnd.jupyter.widget-view+json": {
              "version_major": 2,
              "version_minor": 0,
              "model_id": "6a1d07a5a12d43e5b34f2a1475b63bd3"
            }
          },
          "metadata": {}
        },
        {
          "output_type": "display_data",
          "data": {
            "text/plain": [
              "Extraction completed...: 0 file [00:00, ? file/s]"
            ],
            "application/vnd.jupyter.widget-view+json": {
              "version_major": 2,
              "version_minor": 0,
              "model_id": "dfea65b7b1d84f5aab2d1f1485ed3f8e"
            }
          },
          "metadata": {}
        },
        {
          "output_type": "display_data",
          "data": {
            "text/plain": [
              "Shuffling /root/tensorflow_datasets/malaria/1.0.0.incomplete8FOZ1I/malaria-train.tfrecord*...:   0%|          …"
            ],
            "application/vnd.jupyter.widget-view+json": {
              "version_major": 2,
              "version_minor": 0,
              "model_id": "779a041512204920a01b39b1d28565a1"
            }
          },
          "metadata": {}
        },
        {
          "output_type": "stream",
          "name": "stdout",
          "text": [
            "Dataset malaria downloaded and prepared to /root/tensorflow_datasets/malaria/1.0.0. Subsequent calls will reuse this data.\n"
          ]
        }
      ]
    },
    {
      "cell_type": "code",
      "source": [
        "len(dataset)"
      ],
      "metadata": {
        "colab": {
          "base_uri": "https://localhost:8080/"
        },
        "id": "3zx2EavgPKkK",
        "outputId": "c9b7710c-917f-41e7-e229-c4ef29737a60"
      },
      "execution_count": 29,
      "outputs": [
        {
          "output_type": "execute_result",
          "data": {
            "text/plain": [
              "27558"
            ]
          },
          "metadata": {},
          "execution_count": 29
        }
      ]
    },
    {
      "cell_type": "code",
      "source": [
        "#function to split the dataset into train,validation and test sets\n",
        "def splits(dataset,TRAIN_RATIO,VAL_RATIO,TEST_RATIO):\n",
        "  DATASET_SIZE =  len(dataset)\n",
        "\n",
        "\n",
        "  train_dataset = dataset.take(int(TRAIN_RATIO*DATASET_SIZE))\n",
        "  val_dataset = (dataset.skip(int(TRAIN_RATIO*DATASET_SIZE))).take(int(VAL_RATIO*DATASET_SIZE))\n",
        "  test_dataset = (dataset.skip(int((TRAIN_RATIO+VAL_RATIO)*DATASET_SIZE))).take(int(TEST_RATIO*DATASET_SIZE))\n",
        "\n",
        "  return train_dataset,val_dataset,test_dataset\n"
      ],
      "metadata": {
        "id": "W-jiKGOxPsdR"
      },
      "execution_count": 30,
      "outputs": []
    },
    {
      "cell_type": "code",
      "source": [
        "TRAIN_RATIO = 0.8\n",
        "VAL_RATIO = 0.1\n",
        "TEST_RATIO = 0.1\n",
        "\n",
        "train_dataset,val_dataset,test_dataset = splits(dataset, TRAIN_RATIO,VAL_RATIO,TEST_RATIO)\n",
        "\n",
        "print(train_dataset,val_dataset,test_dataset)"
      ],
      "metadata": {
        "colab": {
          "base_uri": "https://localhost:8080/"
        },
        "id": "KTPe-YtbP3Mq",
        "outputId": "987caa43-d753-4c0f-c687-049b302ca639"
      },
      "execution_count": 31,
      "outputs": [
        {
          "output_type": "stream",
          "name": "stdout",
          "text": [
            "<_TakeDataset element_spec=(TensorSpec(shape=(None, None, 3), dtype=tf.uint8, name=None), TensorSpec(shape=(), dtype=tf.int64, name=None))> <_TakeDataset element_spec=(TensorSpec(shape=(None, None, 3), dtype=tf.uint8, name=None), TensorSpec(shape=(), dtype=tf.int64, name=None))> <_TakeDataset element_spec=(TensorSpec(shape=(None, None, 3), dtype=tf.uint8, name=None), TensorSpec(shape=(), dtype=tf.int64, name=None))>\n"
          ]
        }
      ]
    },
    {
      "cell_type": "code",
      "source": [
        "len(test_dataset)"
      ],
      "metadata": {
        "colab": {
          "base_uri": "https://localhost:8080/"
        },
        "id": "9HSG9qvbU4iF",
        "outputId": "968e95a1-1869-4f9a-da86-ae28416fc749"
      },
      "execution_count": 32,
      "outputs": [
        {
          "output_type": "execute_result",
          "data": {
            "text/plain": [
              "2755"
            ]
          },
          "metadata": {},
          "execution_count": 32
        }
      ]
    },
    {
      "cell_type": "code",
      "source": [
        "dataset_info.features['label']"
      ],
      "metadata": {
        "colab": {
          "base_uri": "https://localhost:8080/"
        },
        "id": "cy75Fp2halZa",
        "outputId": "894c113b-2c8d-40f4-bc53-5d6462bbfe1f"
      },
      "execution_count": 33,
      "outputs": [
        {
          "output_type": "execute_result",
          "data": {
            "text/plain": [
              "ClassLabel(shape=(), dtype=int64, num_classes=2)"
            ]
          },
          "metadata": {},
          "execution_count": 33
        }
      ]
    },
    {
      "cell_type": "code",
      "source": [
        "for i, (image,label)in enumerate(train_dataset.take(16)):\n",
        "  ax = plt.subplot(4,4,i+1,frameon=False)\n",
        "  plt.imshow(image)\n",
        "  plt.title(dataset_info.features['label'].int2str(label))\n",
        "\n"
      ],
      "metadata": {
        "colab": {
          "base_uri": "https://localhost:8080/",
          "height": 452
        },
        "id": "3hkAfNjlUV0U",
        "outputId": "ce6b10f0-5641-4f4c-f4a1-19af4915c77d"
      },
      "execution_count": 34,
      "outputs": [
        {
          "output_type": "display_data",
          "data": {
            "text/plain": [
              "<Figure size 640x480 with 16 Axes>"
            ],
            "image/png": "[encoded data removed]"
          },
          "metadata": {}
        }
      ]
    },
    {
      "cell_type": "markdown",
      "source": [
        "## DATA PREPROCESS"
      ],
      "metadata": {
        "id": "jOV8NZ-I8J49"
      }
    },
    {
      "cell_type": "code",
      "source": [
        "#resizing the image to 224x224 and rescaling the the pixel values form (0-225) to (0-1)\n",
        "IM_SIZE = 224\n",
        "def resize_rescale(image,label):\n",
        "  return tf.image.resize(image,(IM_SIZE,IM_SIZE))/255.0, label"
      ],
      "metadata": {
        "id": "8tYw01aLb4GE"
      },
      "execution_count": 35,
      "outputs": []
    },
    {
      "cell_type": "code",
      "source": [
        "train_dataset = train_dataset.map(resize_rescale)\n",
        "val_dataset = val_dataset.map(resize_rescale)\n",
        "test_dataset = test_dataset.map(resize_rescale)"
      ],
      "metadata": {
        "id": "5LhXZ8nt8wjp"
      },
      "execution_count": 36,
      "outputs": []
    },
    {
      "cell_type": "code",
      "source": [
        "for image,label in train_dataset.take(1):\n",
        "  print(image,label)"
      ],
      "metadata": {
        "colab": {
          "base_uri": "https://localhost:8080/"
        },
        "id": "2YsMksij86W4",
        "outputId": "cd589e90-28d9-485d-c64f-5076dd3632ab"
      },
      "execution_count": 37,
      "outputs": [
        {
          "output_type": "stream",
          "name": "stdout",
          "text": [
            "tf.Tensor(\n",
            "[[[0. 0. 0.]\n",
            "  [0. 0. 0.]\n",
            "  [0. 0. 0.]\n",
            "  ...\n",
            "  [0. 0. 0.]\n",
            "  [0. 0. 0.]\n",
            "  [0. 0. 0.]]\n",
            "\n",
            " [[0. 0. 0.]\n",
            "  [0. 0. 0.]\n",
            "  [0. 0. 0.]\n",
            "  ...\n",
            "  [0. 0. 0.]\n",
            "  [0. 0. 0.]\n",
            "  [0. 0. 0.]]\n",
            "\n",
            " [[0. 0. 0.]\n",
            "  [0. 0. 0.]\n",
            "  [0. 0. 0.]\n",
            "  ...\n",
            "  [0. 0. 0.]\n",
            "  [0. 0. 0.]\n",
            "  [0. 0. 0.]]\n",
            "\n",
            " ...\n",
            "\n",
            " [[0. 0. 0.]\n",
            "  [0. 0. 0.]\n",
            "  [0. 0. 0.]\n",
            "  ...\n",
            "  [0. 0. 0.]\n",
            "  [0. 0. 0.]\n",
            "  [0. 0. 0.]]\n",
            "\n",
            " [[0. 0. 0.]\n",
            "  [0. 0. 0.]\n",
            "  [0. 0. 0.]\n",
            "  ...\n",
            "  [0. 0. 0.]\n",
            "  [0. 0. 0.]\n",
            "  [0. 0. 0.]]\n",
            "\n",
            " [[0. 0. 0.]\n",
            "  [0. 0. 0.]\n",
            "  [0. 0. 0.]\n",
            "  ...\n",
            "  [0. 0. 0.]\n",
            "  [0. 0. 0.]\n",
            "  [0. 0. 0.]]], shape=(224, 224, 3), dtype=float32) tf.Tensor(1, shape=(), dtype=int64)\n"
          ]
        }
      ]
    },
    {
      "cell_type": "code",
      "source": [
        "train_dataset = train_dataset.shuffle(buffer_size = 8,reshuffle_each_iteration=True).batch(32).prefetch(tf.data.AUTOTUNE)\n",
        "val_dataset = val_dataset.shuffle(buffer_size = 8,reshuffle_each_iteration=True).batch(32).prefetch(tf.data.AUTOTUNE)"
      ],
      "metadata": {
        "id": "E03Xeosh9Cd-"
      },
      "execution_count": 38,
      "outputs": []
    },
    {
      "cell_type": "code",
      "source": [],
      "metadata": {
        "id": "ZWJLRkGCSbNO"
      },
      "execution_count": 38,
      "outputs": []
    },
    {
      "cell_type": "markdown",
      "source": [
        "## MODEL"
      ],
      "metadata": {
        "id": "AwIxMYWlMx_p"
      }
    },
    {
      "cell_type": "code",
      "source": [
        "\n",
        "lenet_model = tf.keras.Sequential([tf.keras.layers.InputLayer(input_shape = (IM_SIZE,IM_SIZE,3)),\n",
        "                             tf.keras.layers.Conv2D(filters=6, kernel_size = 3, strides = 1,padding = 'valid', activation = 'relu'),\n",
        "                             tf.keras.layers.BatchNormalization(),\n",
        "                             tf.keras.layers.MaxPooling2D(pool_size =2, strides = 2),\n",
        "                             tf.keras.layers.Conv2D(filters=16, kernel_size = 3, strides = 1,padding = 'valid', activation = 'relu'),\n",
        "                             tf.keras.layers.BatchNormalization(),\n",
        "                             tf.keras.layers.MaxPooling2D(pool_size =2, strides = 2),\n",
        "                             tf.keras.layers.Flatten(),\n",
        "                             tf.keras.layers.Dense(100,activation='relu'),\n",
        "                             tf.keras.layers.BatchNormalization(),\n",
        "                             tf.keras.layers.Dense(10,activation='relu'),\n",
        "                             tf.keras.layers.BatchNormalization(),\n",
        "                             tf.keras.layers.Dense(1,activation='sigmoid')])"
      ],
      "metadata": {
        "id": "eqC-5Jth9bfY"
      },
      "execution_count": 47,
      "outputs": []
    },
    {
      "cell_type": "code",
      "source": [
        "lenet_model.summary()"
      ],
      "metadata": {
        "colab": {
          "base_uri": "https://localhost:8080/"
        },
        "id": "WaLylD1pOXpq",
        "outputId": "e2478463-6b76-43d0-b9c7-7b21f4d2e801"
      },
      "execution_count": 48,
      "outputs": [
        {
          "output_type": "stream",
          "name": "stdout",
          "text": [
            "Model: \"sequential_4\"\n",
            "_________________________________________________________________\n",
            " Layer (type)                Output Shape              Param #   \n",
            "=================================================================\n",
            " conv2d_8 (Conv2D)           (None, 222, 222, 6)       168       \n",
            "                                                                 \n",
            " batch_normalization_4 (Batc  (None, 222, 222, 6)      24        \n",
            " hNormalization)                                                 \n",
            "                                                                 \n",
            " max_pooling2d_8 (MaxPooling  (None, 111, 111, 6)      0         \n",
            " 2D)                                                             \n",
            "                                                                 \n",
            " conv2d_9 (Conv2D)           (None, 109, 109, 16)      880       \n",
            "                                                                 \n",
            " batch_normalization_5 (Batc  (None, 109, 109, 16)     64        \n",
            " hNormalization)                                                 \n",
            "                                                                 \n",
            " max_pooling2d_9 (MaxPooling  (None, 54, 54, 16)       0         \n",
            " 2D)                                                             \n",
            "                                                                 \n",
            " flatten_4 (Flatten)         (None, 46656)             0         \n",
            "                                                                 \n",
            " dense_12 (Dense)            (None, 100)               4665700   \n",
            "                                                                 \n",
            " batch_normalization_6 (Batc  (None, 100)              400       \n",
            " hNormalization)                                                 \n",
            "                                                                 \n",
            " dense_13 (Dense)            (None, 10)                1010      \n",
            "                                                                 \n",
            " batch_normalization_7 (Batc  (None, 10)               40        \n",
            " hNormalization)                                                 \n",
            "                                                                 \n",
            " dense_14 (Dense)            (None, 1)                 11        \n",
            "                                                                 \n",
            "=================================================================\n",
            "Total params: 4,668,297\n",
            "Trainable params: 4,668,033\n",
            "Non-trainable params: 264\n",
            "_________________________________________________________________\n"
          ]
        }
      ]
    },
    {
      "cell_type": "code",
      "source": [
        "lenet_model.compile(optimizer = tf.keras.optimizers.Adam(learning_rate=0.1),\n",
        "              loss = tf.keras.losses.BinaryCrossentropy(),\n",
        "              metrics = 'accuracy')"
      ],
      "metadata": {
        "id": "B4YH5bfwOmb0"
      },
      "execution_count": 51,
      "outputs": []
    },
    {
      "cell_type": "code",
      "source": [
        "lenet_history = lenet_model.fit(train_dataset,validation_data = val_dataset, epochs = 100,verbose=1)"
      ],
      "metadata": {
        "colab": {
          "base_uri": "https://localhost:8080/"
        },
        "id": "3VDVFg0nPhuN",
        "outputId": "929f4b54-14d9-4735-a5ee-e6ded882b4fa"
      },
      "execution_count": 52,
      "outputs": [
        {
          "output_type": "stream",
          "name": "stdout",
          "text": [
            "Epoch 1/100\n",
            "689/689 [==============================] - 53s 70ms/step - loss: 0.2334 - accuracy: 0.9249 - val_loss: 0.2853 - val_accuracy: 0.9154\n",
            "Epoch 2/100\n",
            "689/689 [==============================] - 57s 82ms/step - loss: 0.2093 - accuracy: 0.9290 - val_loss: 0.3419 - val_accuracy: 0.9103\n",
            "Epoch 3/100\n",
            "689/689 [==============================] - 57s 82ms/step - loss: 0.2013 - accuracy: 0.9345 - val_loss: 0.3162 - val_accuracy: 0.9151\n",
            "Epoch 4/100\n",
            "689/689 [==============================] - 50s 73ms/step - loss: 0.1864 - accuracy: 0.9408 - val_loss: 0.2695 - val_accuracy: 0.9042\n",
            "Epoch 5/100\n",
            "689/689 [==============================] - 55s 80ms/step - loss: 0.1769 - accuracy: 0.9430 - val_loss: 0.3509 - val_accuracy: 0.8973\n",
            "Epoch 6/100\n",
            "689/689 [==============================] - 48s 70ms/step - loss: 0.1644 - accuracy: 0.9461 - val_loss: 0.1785 - val_accuracy: 0.9412\n",
            "Epoch 7/100\n",
            "689/689 [==============================] - 50s 72ms/step - loss: 0.2090 - accuracy: 0.9287 - val_loss: 1.8849 - val_accuracy: 0.5169\n",
            "Epoch 8/100\n",
            "689/689 [==============================] - 49s 71ms/step - loss: 0.1693 - accuracy: 0.9468 - val_loss: 29.1441 - val_accuracy: 0.5158\n",
            "Epoch 9/100\n",
            "689/689 [==============================] - 57s 83ms/step - loss: 0.1568 - accuracy: 0.9481 - val_loss: 0.4289 - val_accuracy: 0.8991\n",
            "Epoch 10/100\n",
            "689/689 [==============================] - 50s 73ms/step - loss: 0.1404 - accuracy: 0.9527 - val_loss: 0.4367 - val_accuracy: 0.9281\n",
            "Epoch 11/100\n",
            "689/689 [==============================] - 50s 73ms/step - loss: 0.1333 - accuracy: 0.9584 - val_loss: 0.4683 - val_accuracy: 0.9263\n",
            "Epoch 12/100\n",
            "689/689 [==============================] - 50s 72ms/step - loss: 0.1219 - accuracy: 0.9607 - val_loss: 0.5235 - val_accuracy: 0.8933\n",
            "Epoch 13/100\n",
            "689/689 [==============================] - 54s 78ms/step - loss: 0.1042 - accuracy: 0.9646 - val_loss: 0.2434 - val_accuracy: 0.9459\n",
            "Epoch 14/100\n",
            "689/689 [==============================] - 49s 71ms/step - loss: 0.1077 - accuracy: 0.9639 - val_loss: 0.3138 - val_accuracy: 0.9263\n",
            "Epoch 15/100\n",
            "689/689 [==============================] - 50s 73ms/step - loss: 0.0976 - accuracy: 0.9680 - val_loss: 0.2770 - val_accuracy: 0.9456\n",
            "Epoch 16/100\n",
            "689/689 [==============================] - 48s 70ms/step - loss: 0.0850 - accuracy: 0.9722 - val_loss: 0.2999 - val_accuracy: 0.9430\n",
            "Epoch 17/100\n",
            "689/689 [==============================] - 50s 73ms/step - loss: 0.0665 - accuracy: 0.9780 - val_loss: 0.3297 - val_accuracy: 0.9296\n",
            "Epoch 18/100\n",
            "689/689 [==============================] - 48s 70ms/step - loss: 0.1584 - accuracy: 0.9416 - val_loss: 0.2993 - val_accuracy: 0.8966\n",
            "Epoch 19/100\n",
            "689/689 [==============================] - 50s 73ms/step - loss: 0.1134 - accuracy: 0.9596 - val_loss: 0.2873 - val_accuracy: 0.9419\n",
            "Epoch 20/100\n",
            "689/689 [==============================] - 55s 80ms/step - loss: 0.0883 - accuracy: 0.9685 - val_loss: 0.2728 - val_accuracy: 0.9281\n",
            "Epoch 21/100\n",
            "689/689 [==============================] - 49s 71ms/step - loss: 0.0787 - accuracy: 0.9716 - val_loss: 0.2782 - val_accuracy: 0.9332\n",
            "Epoch 22/100\n",
            "689/689 [==============================] - 49s 71ms/step - loss: 0.0740 - accuracy: 0.9735 - val_loss: 0.5145 - val_accuracy: 0.8450\n",
            "Epoch 23/100\n",
            "689/689 [==============================] - 50s 72ms/step - loss: 0.0607 - accuracy: 0.9789 - val_loss: 0.3774 - val_accuracy: 0.9383\n",
            "Epoch 24/100\n",
            "689/689 [==============================] - 56s 81ms/step - loss: 0.0490 - accuracy: 0.9828 - val_loss: 0.6119 - val_accuracy: 0.9238\n",
            "Epoch 25/100\n",
            "689/689 [==============================] - 56s 81ms/step - loss: 0.0602 - accuracy: 0.9803 - val_loss: 0.4019 - val_accuracy: 0.9328\n",
            "Epoch 26/100\n",
            "689/689 [==============================] - 50s 72ms/step - loss: 0.0469 - accuracy: 0.9843 - val_loss: 0.4368 - val_accuracy: 0.9169\n",
            "Epoch 27/100\n",
            "689/689 [==============================] - 48s 70ms/step - loss: 0.0385 - accuracy: 0.9865 - val_loss: 0.5033 - val_accuracy: 0.9198\n",
            "Epoch 28/100\n",
            "689/689 [==============================] - 50s 73ms/step - loss: 0.0351 - accuracy: 0.9889 - val_loss: 0.4974 - val_accuracy: 0.9303\n",
            "Epoch 29/100\n",
            "689/689 [==============================] - 55s 79ms/step - loss: 0.0357 - accuracy: 0.9877 - val_loss: 0.6488 - val_accuracy: 0.9180\n",
            "Epoch 30/100\n",
            "689/689 [==============================] - 55s 79ms/step - loss: 0.0345 - accuracy: 0.9880 - val_loss: 0.6026 - val_accuracy: 0.9437\n",
            "Epoch 31/100\n",
            "689/689 [==============================] - 56s 81ms/step - loss: 0.0305 - accuracy: 0.9895 - val_loss: 0.4521 - val_accuracy: 0.9296\n",
            "Epoch 32/100\n",
            "689/689 [==============================] - 55s 80ms/step - loss: 0.0276 - accuracy: 0.9908 - val_loss: 16.3712 - val_accuracy: 0.9390\n",
            "Epoch 33/100\n",
            "689/689 [==============================] - 51s 73ms/step - loss: 0.0305 - accuracy: 0.9893 - val_loss: 0.6831 - val_accuracy: 0.9390\n",
            "Epoch 34/100\n",
            "689/689 [==============================] - 50s 73ms/step - loss: 0.0239 - accuracy: 0.9922 - val_loss: 0.4658 - val_accuracy: 0.9314\n",
            "Epoch 35/100\n",
            "689/689 [==============================] - 55s 80ms/step - loss: 0.0236 - accuracy: 0.9917 - val_loss: 0.5173 - val_accuracy: 0.9347\n",
            "Epoch 36/100\n",
            "689/689 [==============================] - 50s 73ms/step - loss: 0.0233 - accuracy: 0.9926 - val_loss: 0.7065 - val_accuracy: 0.9151\n",
            "Epoch 37/100\n",
            "689/689 [==============================] - 49s 70ms/step - loss: 0.0301 - accuracy: 0.9911 - val_loss: 0.5920 - val_accuracy: 0.9336\n",
            "Epoch 38/100\n",
            "689/689 [==============================] - 50s 73ms/step - loss: 0.0223 - accuracy: 0.9928 - val_loss: 0.4938 - val_accuracy: 0.9074\n",
            "Epoch 39/100\n",
            "689/689 [==============================] - 55s 80ms/step - loss: 0.0187 - accuracy: 0.9935 - val_loss: 0.5058 - val_accuracy: 0.9441\n",
            "Epoch 40/100\n",
            "689/689 [==============================] - 56s 81ms/step - loss: 0.0177 - accuracy: 0.9944 - val_loss: 0.5574 - val_accuracy: 0.9365\n",
            "Epoch 41/100\n",
            "689/689 [==============================] - 51s 74ms/step - loss: 0.0188 - accuracy: 0.9941 - val_loss: 0.5396 - val_accuracy: 0.9368\n",
            "Epoch 42/100\n",
            "689/689 [==============================] - 49s 71ms/step - loss: 0.0170 - accuracy: 0.9940 - val_loss: 0.8248 - val_accuracy: 0.8519\n",
            "Epoch 43/100\n",
            "689/689 [==============================] - 50s 73ms/step - loss: 0.0170 - accuracy: 0.9946 - val_loss: 0.9068 - val_accuracy: 0.9343\n",
            "Epoch 44/100\n",
            "689/689 [==============================] - 48s 70ms/step - loss: 0.0208 - accuracy: 0.9940 - val_loss: 0.6584 - val_accuracy: 0.9318\n",
            "Epoch 45/100\n",
            "689/689 [==============================] - 51s 74ms/step - loss: 0.0205 - accuracy: 0.9936 - val_loss: 0.8366 - val_accuracy: 0.9463\n",
            "Epoch 46/100\n",
            "689/689 [==============================] - 49s 71ms/step - loss: 0.0134 - accuracy: 0.9955 - val_loss: 0.4771 - val_accuracy: 0.9394\n",
            "Epoch 47/100\n",
            "689/689 [==============================] - 51s 73ms/step - loss: 0.0095 - accuracy: 0.9971 - val_loss: 0.4729 - val_accuracy: 0.9474\n",
            "Epoch 48/100\n",
            "689/689 [==============================] - 49s 71ms/step - loss: 0.0130 - accuracy: 0.9954 - val_loss: 0.8418 - val_accuracy: 0.9332\n",
            "Epoch 49/100\n",
            "689/689 [==============================] - 57s 82ms/step - loss: 0.0201 - accuracy: 0.9938 - val_loss: 0.7318 - val_accuracy: 0.9368\n",
            "Epoch 50/100\n",
            "689/689 [==============================] - 50s 73ms/step - loss: 0.0122 - accuracy: 0.9958 - val_loss: 2.7969 - val_accuracy: 0.9441\n",
            "Epoch 51/100\n",
            "689/689 [==============================] - 49s 70ms/step - loss: 0.0140 - accuracy: 0.9956 - val_loss: 0.7539 - val_accuracy: 0.9405\n",
            "Epoch 52/100\n",
            "689/689 [==============================] - 51s 74ms/step - loss: 0.0142 - accuracy: 0.9958 - val_loss: 1.8245 - val_accuracy: 0.9383\n",
            "Epoch 53/100\n",
            "689/689 [==============================] - 50s 72ms/step - loss: 0.0112 - accuracy: 0.9962 - val_loss: 0.4774 - val_accuracy: 0.9372\n",
            "Epoch 54/100\n",
            "689/689 [==============================] - 51s 74ms/step - loss: 0.0136 - accuracy: 0.9963 - val_loss: 0.7963 - val_accuracy: 0.9379\n",
            "Epoch 55/100\n",
            "689/689 [==============================] - 49s 72ms/step - loss: 0.0155 - accuracy: 0.9950 - val_loss: 35.3665 - val_accuracy: 0.9423\n",
            "Epoch 56/100\n",
            "689/689 [==============================] - 51s 73ms/step - loss: 0.0190 - accuracy: 0.9940 - val_loss: 0.9695 - val_accuracy: 0.9379\n",
            "Epoch 57/100\n",
            "689/689 [==============================] - 51s 74ms/step - loss: 0.0109 - accuracy: 0.9964 - val_loss: 0.7447 - val_accuracy: 0.9419\n",
            "Epoch 58/100\n",
            "689/689 [==============================] - 51s 75ms/step - loss: 0.0078 - accuracy: 0.9974 - val_loss: 0.6540 - val_accuracy: 0.9426\n",
            "Epoch 59/100\n",
            "689/689 [==============================] - 51s 74ms/step - loss: 0.0069 - accuracy: 0.9976 - val_loss: 0.7052 - val_accuracy: 0.9292\n",
            "Epoch 60/100\n",
            "689/689 [==============================] - 55s 80ms/step - loss: 0.0128 - accuracy: 0.9961 - val_loss: 1.2012 - val_accuracy: 0.9230\n",
            "Epoch 61/100\n",
            "689/689 [==============================] - 49s 71ms/step - loss: 0.0108 - accuracy: 0.9964 - val_loss: 4.4051 - val_accuracy: 0.9437\n",
            "Epoch 62/100\n",
            "689/689 [==============================] - 57s 83ms/step - loss: 0.0092 - accuracy: 0.9972 - val_loss: 0.5551 - val_accuracy: 0.9205\n",
            "Epoch 63/100\n",
            "689/689 [==============================] - 51s 75ms/step - loss: 0.0194 - accuracy: 0.9948 - val_loss: 1.6812 - val_accuracy: 0.9252\n",
            "Epoch 64/100\n",
            "689/689 [==============================] - 62s 90ms/step - loss: 0.0089 - accuracy: 0.9975 - val_loss: 0.5023 - val_accuracy: 0.9448\n",
            "Epoch 65/100\n",
            "689/689 [==============================] - 50s 72ms/step - loss: 0.0105 - accuracy: 0.9968 - val_loss: 0.5298 - val_accuracy: 0.9423\n",
            "Epoch 66/100\n",
            "689/689 [==============================] - 48s 70ms/step - loss: 0.0112 - accuracy: 0.9968 - val_loss: 0.8567 - val_accuracy: 0.9412\n",
            "Epoch 67/100\n",
            "689/689 [==============================] - 50s 73ms/step - loss: 0.0092 - accuracy: 0.9970 - val_loss: 0.7462 - val_accuracy: 0.9419\n",
            "Epoch 68/100\n",
            "689/689 [==============================] - 48s 70ms/step - loss: 0.0090 - accuracy: 0.9970 - val_loss: 0.6780 - val_accuracy: 0.9416\n",
            "Epoch 69/100\n",
            "689/689 [==============================] - 50s 72ms/step - loss: 0.0118 - accuracy: 0.9969 - val_loss: 4.2846 - val_accuracy: 0.9441\n",
            "Epoch 70/100\n",
            "689/689 [==============================] - 48s 70ms/step - loss: 0.0075 - accuracy: 0.9974 - val_loss: 0.9568 - val_accuracy: 0.9234\n",
            "Epoch 71/100\n",
            "689/689 [==============================] - 50s 72ms/step - loss: 0.0228 - accuracy: 0.9942 - val_loss: 3.3313 - val_accuracy: 0.9390\n",
            "Epoch 72/100\n",
            "689/689 [==============================] - 48s 70ms/step - loss: 0.0061 - accuracy: 0.9981 - val_loss: 0.7132 - val_accuracy: 0.9488\n",
            "Epoch 73/100\n",
            "689/689 [==============================] - 50s 73ms/step - loss: 0.0039 - accuracy: 0.9988 - val_loss: 1.0010 - val_accuracy: 0.9328\n",
            "Epoch 74/100\n",
            "689/689 [==============================] - 54s 79ms/step - loss: 0.0081 - accuracy: 0.9973 - val_loss: 2.7557 - val_accuracy: 0.9408\n",
            "Epoch 75/100\n",
            "689/689 [==============================] - 59s 86ms/step - loss: 0.0128 - accuracy: 0.9962 - val_loss: 1.0197 - val_accuracy: 0.9347\n",
            "Epoch 76/100\n",
            "689/689 [==============================] - 48s 70ms/step - loss: 0.0110 - accuracy: 0.9971 - val_loss: 0.5693 - val_accuracy: 0.9434\n",
            "Epoch 77/100\n",
            "689/689 [==============================] - 50s 72ms/step - loss: 0.0081 - accuracy: 0.9974 - val_loss: 0.7913 - val_accuracy: 0.9372\n",
            "Epoch 78/100\n",
            "689/689 [==============================] - 48s 69ms/step - loss: 0.0041 - accuracy: 0.9984 - val_loss: 0.6904 - val_accuracy: 0.9401\n",
            "Epoch 79/100\n",
            "689/689 [==============================] - 49s 72ms/step - loss: 0.0180 - accuracy: 0.9952 - val_loss: 0.4954 - val_accuracy: 0.9470\n",
            "Epoch 80/100\n",
            "689/689 [==============================] - 55s 79ms/step - loss: 0.0099 - accuracy: 0.9971 - val_loss: 0.4501 - val_accuracy: 0.9412\n",
            "Epoch 81/100\n",
            "689/689 [==============================] - 48s 69ms/step - loss: 0.0034 - accuracy: 0.9988 - val_loss: 0.6060 - val_accuracy: 0.9419\n",
            "Epoch 82/100\n",
            "689/689 [==============================] - 49s 72ms/step - loss: 0.0049 - accuracy: 0.9983 - val_loss: 0.5801 - val_accuracy: 0.9423\n",
            "Epoch 83/100\n",
            "689/689 [==============================] - 53s 78ms/step - loss: 0.0064 - accuracy: 0.9980 - val_loss: 0.7553 - val_accuracy: 0.9437\n",
            "Epoch 84/100\n",
            "689/689 [==============================] - 55s 80ms/step - loss: 0.0086 - accuracy: 0.9974 - val_loss: 0.7944 - val_accuracy: 0.9376\n",
            "Epoch 85/100\n",
            "689/689 [==============================] - 54s 79ms/step - loss: 0.0080 - accuracy: 0.9976 - val_loss: 128.7726 - val_accuracy: 0.9452\n",
            "Epoch 86/100\n",
            "689/689 [==============================] - 56s 81ms/step - loss: 0.0098 - accuracy: 0.9971 - val_loss: 2.5557 - val_accuracy: 0.9434\n",
            "Epoch 87/100\n",
            "689/689 [==============================] - 52s 75ms/step - loss: 0.0090 - accuracy: 0.9977 - val_loss: 0.9989 - val_accuracy: 0.9492\n",
            "Epoch 88/100\n",
            "689/689 [==============================] - 48s 69ms/step - loss: 0.0048 - accuracy: 0.9984 - val_loss: 100.9354 - val_accuracy: 0.9303\n",
            "Epoch 89/100\n",
            "689/689 [==============================] - 56s 82ms/step - loss: 0.0081 - accuracy: 0.9979 - val_loss: 1.2699 - val_accuracy: 0.9372\n",
            "Epoch 90/100\n",
            "689/689 [==============================] - 51s 74ms/step - loss: 0.0074 - accuracy: 0.9976 - val_loss: 0.5462 - val_accuracy: 0.9466\n",
            "Epoch 91/100\n",
            "689/689 [==============================] - 48s 70ms/step - loss: 0.0053 - accuracy: 0.9981 - val_loss: 5.8695 - val_accuracy: 0.9372\n",
            "Epoch 92/100\n",
            "689/689 [==============================] - 50s 72ms/step - loss: 0.0112 - accuracy: 0.9971 - val_loss: 24.3818 - val_accuracy: 0.9459\n",
            "Epoch 93/100\n",
            "689/689 [==============================] - 50s 73ms/step - loss: 0.0091 - accuracy: 0.9970 - val_loss: 84.9215 - val_accuracy: 0.9456\n",
            "Epoch 94/100\n",
            "689/689 [==============================] - 56s 81ms/step - loss: 0.0045 - accuracy: 0.9985 - val_loss: 0.8564 - val_accuracy: 0.9485\n",
            "Epoch 95/100\n",
            "689/689 [==============================] - 50s 72ms/step - loss: 0.0077 - accuracy: 0.9979 - val_loss: 0.5441 - val_accuracy: 0.9485\n",
            "Epoch 96/100\n",
            "689/689 [==============================] - 50s 72ms/step - loss: 0.0057 - accuracy: 0.9984 - val_loss: 1.2959 - val_accuracy: 0.9401\n",
            "Epoch 97/100\n",
            "689/689 [==============================] - 55s 80ms/step - loss: 0.0047 - accuracy: 0.9986 - val_loss: 0.9752 - val_accuracy: 0.9325\n",
            "Epoch 98/100\n",
            "689/689 [==============================] - 48s 69ms/step - loss: 0.0125 - accuracy: 0.9965 - val_loss: 45.9300 - val_accuracy: 0.9452\n",
            "Epoch 99/100\n",
            "689/689 [==============================] - 50s 72ms/step - loss: 0.0105 - accuracy: 0.9976 - val_loss: 4.2934 - val_accuracy: 0.9488\n",
            "Epoch 100/100\n",
            "689/689 [==============================] - 57s 82ms/step - loss: 0.0067 - accuracy: 0.9982 - val_loss: 0.4692 - val_accuracy: 0.9466\n"
          ]
        }
      ]
    },
    {
      "cell_type": "code",
      "source": [
        "test_dataset = test_dataset.batch(1)"
      ],
      "metadata": {
        "id": "aqalhTZXsZR6"
      },
      "execution_count": 54,
      "outputs": []
    },
    {
      "cell_type": "code",
      "source": [
        "lenet_model.evaluate(test_dataset)"
      ],
      "metadata": {
        "colab": {
          "base_uri": "https://localhost:8080/"
        },
        "id": "j59U_7xFQKJN",
        "outputId": "9ed645bd-be54-4b80-be98-89b59f212435"
      },
      "execution_count": 55,
      "outputs": [
        {
          "output_type": "stream",
          "name": "stdout",
          "text": [
            "2755/2755 [==============================] - 23s 4ms/step - loss: 0.4520 - accuracy: 0.9426\n"
          ]
        },
        {
          "output_type": "execute_result",
          "data": {
            "text/plain": [
              "[0.45197802782058716, 0.9426497220993042]"
            ]
          },
          "metadata": {},
          "execution_count": 55
        }
      ]
    },
    {
      "cell_type": "code",
      "source": [
        "lenet_model.save(filepath='/content/drive/MyDrive/Colab Notebooks/Malaria/lenet_model',save_format=\"tf\")"
      ],
      "metadata": {
        "colab": {
          "base_uri": "https://localhost:8080/"
        },
        "id": "TlXazcVAsOog",
        "outputId": "39a2c2f5-5082-497e-9851-a78c386daecc"
      },
      "execution_count": 57,
      "outputs": [
        {
          "output_type": "stream",
          "name": "stderr",
          "text": [
            "WARNING:absl:Found untraced functions such as _jit_compiled_convolution_op, _jit_compiled_convolution_op while saving (showing 2 of 2). These functions will not be directly callable after loading.\n"
          ]
        }
      ]
    },
    {
      "cell_type": "code",
      "source": [],
      "metadata": {
        "id": "pXcRRderszsx"
      },
      "execution_count": null,
      "outputs": []
    }
  ]
}